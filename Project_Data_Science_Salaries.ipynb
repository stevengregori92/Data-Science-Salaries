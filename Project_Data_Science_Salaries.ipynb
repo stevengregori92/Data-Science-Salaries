{
  "cells": [
    {
      "cell_type": "markdown",
      "metadata": {
        "id": "view-in-github",
        "colab_type": "text"
      },
      "source": [
        "<a href=\"https://colab.research.google.com/github/stevengregori92/Data-Science-Salaries/blob/main/Project_Data_Science_Salaries.ipynb\" target=\"_parent\"><img src=\"https://colab.research.google.com/assets/colab-badge.svg\" alt=\"Open In Colab\"/></a>"
      ]
    },
    {
      "cell_type": "markdown",
      "metadata": {
        "id": "39c877c9"
      },
      "source": [
        "# Project - Data Science Salaries"
      ],
      "id": "39c877c9"
    },
    {
      "cell_type": "markdown",
      "metadata": {
        "id": "525fb9c6"
      },
      "source": [
        "## Goal of project\n",
        "- The goal of this project is to present insightful statistics of Data Science Salaries\n",
        "- The local newspaper (or online site) want to write an article on how lucrative it is to be Data Science"
      ],
      "id": "525fb9c6"
    },
    {
      "cell_type": "markdown",
      "metadata": {
        "id": "77f362c4"
      },
      "source": [
        "## Step 1: Acquire\n",
        "- Explore problem\n",
        "- Identify data\n",
        "- Import data"
      ],
      "id": "77f362c4"
    },
    {
      "cell_type": "markdown",
      "metadata": {
        "id": "6f8cbbcb"
      },
      "source": [
        "### Step 1.a: Import libraries\n",
        "- Execute the cell below (SHIFT + ENTER)"
      ],
      "id": "6f8cbbcb"
    },
    {
      "cell_type": "code",
      "execution_count": null,
      "metadata": {
        "id": "64a86f68"
      },
      "outputs": [],
      "source": [
        "import pandas as pd\n",
        "import matplotlib.pyplot as plt\n",
        "%matplotlib inline"
      ],
      "id": "64a86f68"
    },
    {
      "cell_type": "markdown",
      "metadata": {
        "id": "b5f9a799"
      },
      "source": [
        "### Step 1.b: Read the data\n",
        "- Use ```pd.read_csv()``` to read the file `files/data_science_salaries.csv`\n",
        "- NOTE: Remember to assign the result to a variable (e.g., ```data```)\n",
        "- Apply ```.head()``` on the data to see all is as expected\n",
        "- Dataset is from **Kaggle** (Get updated dataset [here](https://www.kaggle.com/saurabhshahane/data-science-jobs-salaries))"
      ],
      "id": "b5f9a799"
    },
    {
      "cell_type": "code",
      "execution_count": null,
      "metadata": {
        "id": "76f2806a"
      },
      "outputs": [],
      "source": [
        "data = pd.read_csv('data_science_salaries.csv')"
      ],
      "id": "76f2806a"
    },
    {
      "cell_type": "code",
      "execution_count": null,
      "metadata": {
        "colab": {
          "base_uri": "https://localhost:8080/",
          "height": 409
        },
        "id": "e2b16778",
        "outputId": "68c12880-9227-4bca-b800-42aa56da7bcd"
      },
      "outputs": [
        {
          "output_type": "execute_result",
          "data": {
            "text/plain": [
              "  work_year experience_level employment_type                  job_title  \\\n",
              "0     2021e               EN              FT    Data Science Consultant   \n",
              "1      2020               SE              FT             Data Scientist   \n",
              "2     2021e               EX              FT       Head of Data Science   \n",
              "3     2021e               EX              FT               Head of Data   \n",
              "4     2021e               EN              FT  Machine Learning Engineer   \n",
              "\n",
              "   salary salary_currency  salary_in_usd employee_residence  remote_ratio  \\\n",
              "0   54000             EUR          64369                 DE            50   \n",
              "1   60000             EUR          68428                 GR           100   \n",
              "2   85000             USD          85000                 RU             0   \n",
              "3  230000             USD         230000                 RU            50   \n",
              "4  125000             USD         125000                 US           100   \n",
              "\n",
              "  company_location company_size  \n",
              "0               DE            L  \n",
              "1               US            L  \n",
              "2               RU            M  \n",
              "3               RU            L  \n",
              "4               US            S  "
            ],
            "text/html": [
              "\n",
              "  <div id=\"df-32d86e2a-d92e-4fa4-912d-7d22f3722a6d\">\n",
              "    <div class=\"colab-df-container\">\n",
              "      <div>\n",
              "<style scoped>\n",
              "    .dataframe tbody tr th:only-of-type {\n",
              "        vertical-align: middle;\n",
              "    }\n",
              "\n",
              "    .dataframe tbody tr th {\n",
              "        vertical-align: top;\n",
              "    }\n",
              "\n",
              "    .dataframe thead th {\n",
              "        text-align: right;\n",
              "    }\n",
              "</style>\n",
              "<table border=\"1\" class=\"dataframe\">\n",
              "  <thead>\n",
              "    <tr style=\"text-align: right;\">\n",
              "      <th></th>\n",
              "      <th>work_year</th>\n",
              "      <th>experience_level</th>\n",
              "      <th>employment_type</th>\n",
              "      <th>job_title</th>\n",
              "      <th>salary</th>\n",
              "      <th>salary_currency</th>\n",
              "      <th>salary_in_usd</th>\n",
              "      <th>employee_residence</th>\n",
              "      <th>remote_ratio</th>\n",
              "      <th>company_location</th>\n",
              "      <th>company_size</th>\n",
              "    </tr>\n",
              "  </thead>\n",
              "  <tbody>\n",
              "    <tr>\n",
              "      <th>0</th>\n",
              "      <td>2021e</td>\n",
              "      <td>EN</td>\n",
              "      <td>FT</td>\n",
              "      <td>Data Science Consultant</td>\n",
              "      <td>54000</td>\n",
              "      <td>EUR</td>\n",
              "      <td>64369</td>\n",
              "      <td>DE</td>\n",
              "      <td>50</td>\n",
              "      <td>DE</td>\n",
              "      <td>L</td>\n",
              "    </tr>\n",
              "    <tr>\n",
              "      <th>1</th>\n",
              "      <td>2020</td>\n",
              "      <td>SE</td>\n",
              "      <td>FT</td>\n",
              "      <td>Data Scientist</td>\n",
              "      <td>60000</td>\n",
              "      <td>EUR</td>\n",
              "      <td>68428</td>\n",
              "      <td>GR</td>\n",
              "      <td>100</td>\n",
              "      <td>US</td>\n",
              "      <td>L</td>\n",
              "    </tr>\n",
              "    <tr>\n",
              "      <th>2</th>\n",
              "      <td>2021e</td>\n",
              "      <td>EX</td>\n",
              "      <td>FT</td>\n",
              "      <td>Head of Data Science</td>\n",
              "      <td>85000</td>\n",
              "      <td>USD</td>\n",
              "      <td>85000</td>\n",
              "      <td>RU</td>\n",
              "      <td>0</td>\n",
              "      <td>RU</td>\n",
              "      <td>M</td>\n",
              "    </tr>\n",
              "    <tr>\n",
              "      <th>3</th>\n",
              "      <td>2021e</td>\n",
              "      <td>EX</td>\n",
              "      <td>FT</td>\n",
              "      <td>Head of Data</td>\n",
              "      <td>230000</td>\n",
              "      <td>USD</td>\n",
              "      <td>230000</td>\n",
              "      <td>RU</td>\n",
              "      <td>50</td>\n",
              "      <td>RU</td>\n",
              "      <td>L</td>\n",
              "    </tr>\n",
              "    <tr>\n",
              "      <th>4</th>\n",
              "      <td>2021e</td>\n",
              "      <td>EN</td>\n",
              "      <td>FT</td>\n",
              "      <td>Machine Learning Engineer</td>\n",
              "      <td>125000</td>\n",
              "      <td>USD</td>\n",
              "      <td>125000</td>\n",
              "      <td>US</td>\n",
              "      <td>100</td>\n",
              "      <td>US</td>\n",
              "      <td>S</td>\n",
              "    </tr>\n",
              "  </tbody>\n",
              "</table>\n",
              "</div>\n",
              "      <button class=\"colab-df-convert\" onclick=\"convertToInteractive('df-32d86e2a-d92e-4fa4-912d-7d22f3722a6d')\"\n",
              "              title=\"Convert this dataframe to an interactive table.\"\n",
              "              style=\"display:none;\">\n",
              "        \n",
              "  <svg xmlns=\"http://www.w3.org/2000/svg\" height=\"24px\"viewBox=\"0 0 24 24\"\n",
              "       width=\"24px\">\n",
              "    <path d=\"M0 0h24v24H0V0z\" fill=\"none\"/>\n",
              "    <path d=\"M18.56 5.44l.94 2.06.94-2.06 2.06-.94-2.06-.94-.94-2.06-.94 2.06-2.06.94zm-11 1L8.5 8.5l.94-2.06 2.06-.94-2.06-.94L8.5 2.5l-.94 2.06-2.06.94zm10 10l.94 2.06.94-2.06 2.06-.94-2.06-.94-.94-2.06-.94 2.06-2.06.94z\"/><path d=\"M17.41 7.96l-1.37-1.37c-.4-.4-.92-.59-1.43-.59-.52 0-1.04.2-1.43.59L10.3 9.45l-7.72 7.72c-.78.78-.78 2.05 0 2.83L4 21.41c.39.39.9.59 1.41.59.51 0 1.02-.2 1.41-.59l7.78-7.78 2.81-2.81c.8-.78.8-2.07 0-2.86zM5.41 20L4 18.59l7.72-7.72 1.47 1.35L5.41 20z\"/>\n",
              "  </svg>\n",
              "      </button>\n",
              "      \n",
              "  <style>\n",
              "    .colab-df-container {\n",
              "      display:flex;\n",
              "      flex-wrap:wrap;\n",
              "      gap: 12px;\n",
              "    }\n",
              "\n",
              "    .colab-df-convert {\n",
              "      background-color: #E8F0FE;\n",
              "      border: none;\n",
              "      border-radius: 50%;\n",
              "      cursor: pointer;\n",
              "      display: none;\n",
              "      fill: #1967D2;\n",
              "      height: 32px;\n",
              "      padding: 0 0 0 0;\n",
              "      width: 32px;\n",
              "    }\n",
              "\n",
              "    .colab-df-convert:hover {\n",
              "      background-color: #E2EBFA;\n",
              "      box-shadow: 0px 1px 2px rgba(60, 64, 67, 0.3), 0px 1px 3px 1px rgba(60, 64, 67, 0.15);\n",
              "      fill: #174EA6;\n",
              "    }\n",
              "\n",
              "    [theme=dark] .colab-df-convert {\n",
              "      background-color: #3B4455;\n",
              "      fill: #D2E3FC;\n",
              "    }\n",
              "\n",
              "    [theme=dark] .colab-df-convert:hover {\n",
              "      background-color: #434B5C;\n",
              "      box-shadow: 0px 1px 3px 1px rgba(0, 0, 0, 0.15);\n",
              "      filter: drop-shadow(0px 1px 2px rgba(0, 0, 0, 0.3));\n",
              "      fill: #FFFFFF;\n",
              "    }\n",
              "  </style>\n",
              "\n",
              "      <script>\n",
              "        const buttonEl =\n",
              "          document.querySelector('#df-32d86e2a-d92e-4fa4-912d-7d22f3722a6d button.colab-df-convert');\n",
              "        buttonEl.style.display =\n",
              "          google.colab.kernel.accessAllowed ? 'block' : 'none';\n",
              "\n",
              "        async function convertToInteractive(key) {\n",
              "          const element = document.querySelector('#df-32d86e2a-d92e-4fa4-912d-7d22f3722a6d');\n",
              "          const dataTable =\n",
              "            await google.colab.kernel.invokeFunction('convertToInteractive',\n",
              "                                                     [key], {});\n",
              "          if (!dataTable) return;\n",
              "\n",
              "          const docLinkHtml = 'Like what you see? Visit the ' +\n",
              "            '<a target=\"_blank\" href=https://colab.research.google.com/notebooks/data_table.ipynb>data table notebook</a>'\n",
              "            + ' to learn more about interactive tables.';\n",
              "          element.innerHTML = '';\n",
              "          dataTable['output_type'] = 'display_data';\n",
              "          await google.colab.output.renderOutput(dataTable, element);\n",
              "          const docLink = document.createElement('div');\n",
              "          docLink.innerHTML = docLinkHtml;\n",
              "          element.appendChild(docLink);\n",
              "        }\n",
              "      </script>\n",
              "    </div>\n",
              "  </div>\n",
              "  "
            ]
          },
          "metadata": {},
          "execution_count": 3
        }
      ],
      "source": [
        "data.head()"
      ],
      "id": "e2b16778"
    },
    {
      "cell_type": "markdown",
      "metadata": {
        "id": "a2377dd7"
      },
      "source": [
        "### Step 1.c: Inspect the data\n",
        "- Check the size of the dataset\n",
        "- Can you make conclusions based on it?"
      ],
      "id": "a2377dd7"
    },
    {
      "cell_type": "code",
      "execution_count": null,
      "metadata": {
        "colab": {
          "base_uri": "https://localhost:8080/"
        },
        "id": "ee7ac231",
        "outputId": "53bdd156-4f58-4e54-ca08-40e8bd52f0db"
      },
      "outputs": [
        {
          "output_type": "execute_result",
          "data": {
            "text/plain": [
              "245"
            ]
          },
          "metadata": {},
          "execution_count": 4
        }
      ],
      "source": [
        "len(data)"
      ],
      "id": "ee7ac231"
    },
    {
      "cell_type": "markdown",
      "metadata": {
        "id": "3bec949d"
      },
      "source": [
        "## Step 2: Prepare\n",
        "- Explore data\n",
        "- Visualize ideas\n",
        "- Cleaning data"
      ],
      "id": "3bec949d"
    },
    {
      "cell_type": "markdown",
      "metadata": {
        "id": "6a5d948d"
      },
      "source": [
        "### Step 2.a: Check the data types\n",
        "- This step tells you if some numeric column is not represented numeric.\n",
        "- Get the data types by ```.dtypes```"
      ],
      "id": "6a5d948d"
    },
    {
      "cell_type": "code",
      "execution_count": null,
      "metadata": {
        "colab": {
          "base_uri": "https://localhost:8080/"
        },
        "id": "6772944b",
        "outputId": "eafa7d6c-135f-4556-9b02-b41c06491be7"
      },
      "outputs": [
        {
          "output_type": "execute_result",
          "data": {
            "text/plain": [
              "work_year             object\n",
              "experience_level      object\n",
              "employment_type       object\n",
              "job_title             object\n",
              "salary                 int64\n",
              "salary_currency       object\n",
              "salary_in_usd          int64\n",
              "employee_residence    object\n",
              "remote_ratio           int64\n",
              "company_location      object\n",
              "company_size          object\n",
              "dtype: object"
            ]
          },
          "metadata": {},
          "execution_count": 5
        }
      ],
      "source": [
        "data.dtypes"
      ],
      "id": "6772944b"
    },
    {
      "cell_type": "markdown",
      "metadata": {
        "id": "2867789a"
      },
      "source": [
        "### Step 2.b: Check for null (missing) values\n",
        "- Data often is missing entries - there can be many reasons for this\n",
        "- We need to deal with that (will do later in course)\n",
        "- Use ```.isnull().any()```"
      ],
      "id": "2867789a"
    },
    {
      "cell_type": "code",
      "execution_count": null,
      "metadata": {
        "colab": {
          "base_uri": "https://localhost:8080/"
        },
        "id": "17d92330",
        "outputId": "4fd7a8f1-64ee-4d95-d77f-b3f467070b84"
      },
      "outputs": [
        {
          "output_type": "execute_result",
          "data": {
            "text/plain": [
              "work_year             False\n",
              "experience_level      False\n",
              "employment_type       False\n",
              "job_title             False\n",
              "salary                False\n",
              "salary_currency       False\n",
              "salary_in_usd         False\n",
              "employee_residence    False\n",
              "remote_ratio          False\n",
              "company_location      False\n",
              "company_size          False\n",
              "dtype: bool"
            ]
          },
          "metadata": {},
          "execution_count": 6
        }
      ],
      "source": [
        "data.isnull().any()"
      ],
      "id": "17d92330"
    },
    {
      "cell_type": "markdown",
      "metadata": {
        "id": "137fdfde"
      },
      "source": [
        "### Step 2.c: Understand features\n",
        "- Most features has categories\n",
        "- A way to categorize them is by using `data['work_year'].unique()`\n",
        "- Similar for the other categories. Example:\n",
        "    - `experience_level`: \n",
        "        - EN: Entry-level / Junior\n",
        "        - MI: Mid-level / Intermediate\n",
        "        - SE: Senior-level / Expert\n",
        "        - EX: Executive-level / Director\n",
        "- See full description on [Kaggle](https://www.kaggle.com/saurabhshahane/data-science-jobs-salaries)"
      ],
      "id": "137fdfde"
    },
    {
      "cell_type": "code",
      "execution_count": null,
      "metadata": {
        "colab": {
          "base_uri": "https://localhost:8080/"
        },
        "id": "f2bfa495",
        "outputId": "6abb8286-e9f1-4126-910c-4c0efc3cc1d0"
      },
      "outputs": [
        {
          "output_type": "execute_result",
          "data": {
            "text/plain": [
              "array(['2021e', '2020'], dtype=object)"
            ]
          },
          "metadata": {},
          "execution_count": 7
        }
      ],
      "source": [
        "data['work_year'].unique()"
      ],
      "id": "f2bfa495"
    },
    {
      "cell_type": "code",
      "execution_count": null,
      "metadata": {
        "colab": {
          "base_uri": "https://localhost:8080/"
        },
        "id": "d5233628",
        "outputId": "bfc9921e-9845-420f-b62a-dd9a84e526ca"
      },
      "outputs": [
        {
          "output_type": "execute_result",
          "data": {
            "text/plain": [
              "array(['EN', 'SE', 'EX', 'MI'], dtype=object)"
            ]
          },
          "metadata": {},
          "execution_count": 8
        }
      ],
      "source": [
        "data['experience_level'].unique()"
      ],
      "id": "d5233628"
    },
    {
      "cell_type": "code",
      "execution_count": null,
      "metadata": {
        "colab": {
          "base_uri": "https://localhost:8080/"
        },
        "id": "69d064aa",
        "outputId": "da4e8b3a-2693-4ffd-f085-3da66f40f3c1"
      },
      "outputs": [
        {
          "output_type": "execute_result",
          "data": {
            "text/plain": [
              "array(['DE', 'GR', 'RU', 'US', 'FR', 'AT', 'CA', 'UA', 'NG', 'PK', 'IN',\n",
              "       'GB', 'ES', 'IT', 'PL', 'BG', 'PH', 'PT', 'HU', 'SG', 'BR', 'MX',\n",
              "       'TR', 'NL', 'AE', 'JP', 'JE', 'PR', 'RS', 'KE', 'CO', 'NZ', 'VN',\n",
              "       'IR', 'RO', 'CL', 'BE', 'DK', 'CN', 'HK', 'SI', 'MD', 'LU', 'HR',\n",
              "       'MT'], dtype=object)"
            ]
          },
          "metadata": {},
          "execution_count": 9
        }
      ],
      "source": [
        "data['employee_residence'].unique()"
      ],
      "id": "69d064aa"
    },
    {
      "cell_type": "markdown",
      "metadata": {
        "id": "2408a701"
      },
      "source": [
        "### Step 2.d: Salaries\n",
        "- Notice that salaries are given in different currencies\n",
        "- Also, notice `salary_in_usd`"
      ],
      "id": "2408a701"
    },
    {
      "cell_type": "code",
      "execution_count": null,
      "metadata": {
        "colab": {
          "base_uri": "https://localhost:8080/"
        },
        "id": "2357bcf5",
        "outputId": "3ed336d7-1f1a-47ee-ee47-398abaec1389"
      },
      "outputs": [
        {
          "output_type": "execute_result",
          "data": {
            "text/plain": [
              "array([ 64369,  68428,  85000, 230000, 125000, 120000, 450000,  46759,\n",
              "        74130, 127543, 144000,  13400,  75966, 150000, 103000, 153000,\n",
              "        90000,  60000,  50000,  12000,   5423, 270000,  54376,  47681,\n",
              "       154963,  28801, 110000,  83000, 250000,  59601,  80000,  10000,\n",
              "       138000, 140000,  79866, 170000,  45760, 100000,  53641, 235000,\n",
              "        79833, 225000,  77481,  50180,  89402, 103750, 114125,  95362,\n",
              "        30509, 115000, 187917,  51814, 106000, 112872,  36732,  15966,\n",
              "        96554,  70000,  76958,  89514,  29831, 276000, 188000, 160000,\n",
              "       105000, 200000, 174000,  93000,  28475,  61270,  70139,   6072,\n",
              "        33511,  96833,  13105,  36952,  72625,  91000,  99956, 165000,\n",
              "       103954,  21695,  42000,  63971, 260000, 180000, 109024, 256000,\n",
              "        72500, 185000,  70329, 112000,  21843,  55000,  58000,  78340,\n",
              "        72000,  65561,  30337, 111775,  93150,  25747,  66442,  16949,\n",
              "       190000, 143043,  16271,  71968,  35735, 135000,  25032,  54238,\n",
              "        24407,   9272, 147000,  96357,  21844,  51321,  40481,   4000,\n",
              "        39916,  87000,  26224,  91500,  22671,   5695,  81000,  40798,\n",
              "         2876,  61985, 195000,  38144, 416000,  56578,  33899, 117583,\n",
              "        47129,   8000,  41689, 114047,   5707,  56000,  28850,  43331,\n",
              "        47899,  98000,  66400,  57217,  20000, 325000,  45896,  40529,\n",
              "       600000,  13000,   5898,  42197,  62726,  21669,  87961,  62250,\n",
              "        74000, 152000,  18000, 130000,  19052, 175228, 148261,  38776,\n",
              "        47204,  18102,  91237,  19661,  75000,  62000,  73000,  45773,\n",
              "       190200, 118000, 138350, 130800,  45618, 168000, 119353, 423000,\n",
              "        28608, 412000, 151000,  94917])"
            ]
          },
          "metadata": {},
          "execution_count": 10
        }
      ],
      "source": [
        "data['salary_in_usd'].unique()"
      ],
      "id": "2357bcf5"
    },
    {
      "cell_type": "markdown",
      "metadata": {
        "id": "8cc1cabe"
      },
      "source": [
        "## Step 3: Analyze\n",
        "- Feature selection\n",
        "- Model selection\n",
        "- Analyze data"
      ],
      "id": "8cc1cabe"
    },
    {
      "cell_type": "markdown",
      "metadata": {
        "id": "b039bb8b"
      },
      "source": [
        "### Step 3.a: Explore features\n",
        "- One way to explore features is as follows (here we explore `experience_level`)\n",
        "```Python\n",
        "data.groupby('experience_level')['salary_in_usd'].describe()\n",
        "```\n",
        "- Explore other features"
      ],
      "id": "b039bb8b"
    },
    {
      "cell_type": "code",
      "execution_count": null,
      "metadata": {
        "colab": {
          "base_uri": "https://localhost:8080/",
          "height": 206
        },
        "id": "1e27b890",
        "outputId": "dd7afd3c-1dcb-449d-ee66-5bfb91a7b4f7"
      },
      "outputs": [
        {
          "output_type": "execute_result",
          "data": {
            "text/plain": [
              "                  count           mean            std      min        25%  \\\n",
              "experience_level                                                            \n",
              "EN                 54.0   59753.462963   49103.427811   4000.0   21732.25   \n",
              "EX                 11.0  226288.000000  164029.405584  70329.0  114021.50   \n",
              "MI                103.0   85738.135922   78324.468318   2876.0   40505.00   \n",
              "SE                 77.0  128841.298701   67909.763752  19052.0   78340.00   \n",
              "\n",
              "                       50%       75%       max  \n",
              "experience_level                                \n",
              "EN                 58800.5   82500.0  250000.0  \n",
              "EX                154963.0  280000.0  600000.0  \n",
              "MI                 73000.0  110000.0  450000.0  \n",
              "SE                120000.0  170000.0  412000.0  "
            ],
            "text/html": [
              "\n",
              "  <div id=\"df-89957374-b087-43b3-a70a-20e62feeea1c\">\n",
              "    <div class=\"colab-df-container\">\n",
              "      <div>\n",
              "<style scoped>\n",
              "    .dataframe tbody tr th:only-of-type {\n",
              "        vertical-align: middle;\n",
              "    }\n",
              "\n",
              "    .dataframe tbody tr th {\n",
              "        vertical-align: top;\n",
              "    }\n",
              "\n",
              "    .dataframe thead th {\n",
              "        text-align: right;\n",
              "    }\n",
              "</style>\n",
              "<table border=\"1\" class=\"dataframe\">\n",
              "  <thead>\n",
              "    <tr style=\"text-align: right;\">\n",
              "      <th></th>\n",
              "      <th>count</th>\n",
              "      <th>mean</th>\n",
              "      <th>std</th>\n",
              "      <th>min</th>\n",
              "      <th>25%</th>\n",
              "      <th>50%</th>\n",
              "      <th>75%</th>\n",
              "      <th>max</th>\n",
              "    </tr>\n",
              "    <tr>\n",
              "      <th>experience_level</th>\n",
              "      <th></th>\n",
              "      <th></th>\n",
              "      <th></th>\n",
              "      <th></th>\n",
              "      <th></th>\n",
              "      <th></th>\n",
              "      <th></th>\n",
              "      <th></th>\n",
              "    </tr>\n",
              "  </thead>\n",
              "  <tbody>\n",
              "    <tr>\n",
              "      <th>EN</th>\n",
              "      <td>54.0</td>\n",
              "      <td>59753.462963</td>\n",
              "      <td>49103.427811</td>\n",
              "      <td>4000.0</td>\n",
              "      <td>21732.25</td>\n",
              "      <td>58800.5</td>\n",
              "      <td>82500.0</td>\n",
              "      <td>250000.0</td>\n",
              "    </tr>\n",
              "    <tr>\n",
              "      <th>EX</th>\n",
              "      <td>11.0</td>\n",
              "      <td>226288.000000</td>\n",
              "      <td>164029.405584</td>\n",
              "      <td>70329.0</td>\n",
              "      <td>114021.50</td>\n",
              "      <td>154963.0</td>\n",
              "      <td>280000.0</td>\n",
              "      <td>600000.0</td>\n",
              "    </tr>\n",
              "    <tr>\n",
              "      <th>MI</th>\n",
              "      <td>103.0</td>\n",
              "      <td>85738.135922</td>\n",
              "      <td>78324.468318</td>\n",
              "      <td>2876.0</td>\n",
              "      <td>40505.00</td>\n",
              "      <td>73000.0</td>\n",
              "      <td>110000.0</td>\n",
              "      <td>450000.0</td>\n",
              "    </tr>\n",
              "    <tr>\n",
              "      <th>SE</th>\n",
              "      <td>77.0</td>\n",
              "      <td>128841.298701</td>\n",
              "      <td>67909.763752</td>\n",
              "      <td>19052.0</td>\n",
              "      <td>78340.00</td>\n",
              "      <td>120000.0</td>\n",
              "      <td>170000.0</td>\n",
              "      <td>412000.0</td>\n",
              "    </tr>\n",
              "  </tbody>\n",
              "</table>\n",
              "</div>\n",
              "      <button class=\"colab-df-convert\" onclick=\"convertToInteractive('df-89957374-b087-43b3-a70a-20e62feeea1c')\"\n",
              "              title=\"Convert this dataframe to an interactive table.\"\n",
              "              style=\"display:none;\">\n",
              "        \n",
              "  <svg xmlns=\"http://www.w3.org/2000/svg\" height=\"24px\"viewBox=\"0 0 24 24\"\n",
              "       width=\"24px\">\n",
              "    <path d=\"M0 0h24v24H0V0z\" fill=\"none\"/>\n",
              "    <path d=\"M18.56 5.44l.94 2.06.94-2.06 2.06-.94-2.06-.94-.94-2.06-.94 2.06-2.06.94zm-11 1L8.5 8.5l.94-2.06 2.06-.94-2.06-.94L8.5 2.5l-.94 2.06-2.06.94zm10 10l.94 2.06.94-2.06 2.06-.94-2.06-.94-.94-2.06-.94 2.06-2.06.94z\"/><path d=\"M17.41 7.96l-1.37-1.37c-.4-.4-.92-.59-1.43-.59-.52 0-1.04.2-1.43.59L10.3 9.45l-7.72 7.72c-.78.78-.78 2.05 0 2.83L4 21.41c.39.39.9.59 1.41.59.51 0 1.02-.2 1.41-.59l7.78-7.78 2.81-2.81c.8-.78.8-2.07 0-2.86zM5.41 20L4 18.59l7.72-7.72 1.47 1.35L5.41 20z\"/>\n",
              "  </svg>\n",
              "      </button>\n",
              "      \n",
              "  <style>\n",
              "    .colab-df-container {\n",
              "      display:flex;\n",
              "      flex-wrap:wrap;\n",
              "      gap: 12px;\n",
              "    }\n",
              "\n",
              "    .colab-df-convert {\n",
              "      background-color: #E8F0FE;\n",
              "      border: none;\n",
              "      border-radius: 50%;\n",
              "      cursor: pointer;\n",
              "      display: none;\n",
              "      fill: #1967D2;\n",
              "      height: 32px;\n",
              "      padding: 0 0 0 0;\n",
              "      width: 32px;\n",
              "    }\n",
              "\n",
              "    .colab-df-convert:hover {\n",
              "      background-color: #E2EBFA;\n",
              "      box-shadow: 0px 1px 2px rgba(60, 64, 67, 0.3), 0px 1px 3px 1px rgba(60, 64, 67, 0.15);\n",
              "      fill: #174EA6;\n",
              "    }\n",
              "\n",
              "    [theme=dark] .colab-df-convert {\n",
              "      background-color: #3B4455;\n",
              "      fill: #D2E3FC;\n",
              "    }\n",
              "\n",
              "    [theme=dark] .colab-df-convert:hover {\n",
              "      background-color: #434B5C;\n",
              "      box-shadow: 0px 1px 3px 1px rgba(0, 0, 0, 0.15);\n",
              "      filter: drop-shadow(0px 1px 2px rgba(0, 0, 0, 0.3));\n",
              "      fill: #FFFFFF;\n",
              "    }\n",
              "  </style>\n",
              "\n",
              "      <script>\n",
              "        const buttonEl =\n",
              "          document.querySelector('#df-89957374-b087-43b3-a70a-20e62feeea1c button.colab-df-convert');\n",
              "        buttonEl.style.display =\n",
              "          google.colab.kernel.accessAllowed ? 'block' : 'none';\n",
              "\n",
              "        async function convertToInteractive(key) {\n",
              "          const element = document.querySelector('#df-89957374-b087-43b3-a70a-20e62feeea1c');\n",
              "          const dataTable =\n",
              "            await google.colab.kernel.invokeFunction('convertToInteractive',\n",
              "                                                     [key], {});\n",
              "          if (!dataTable) return;\n",
              "\n",
              "          const docLinkHtml = 'Like what you see? Visit the ' +\n",
              "            '<a target=\"_blank\" href=https://colab.research.google.com/notebooks/data_table.ipynb>data table notebook</a>'\n",
              "            + ' to learn more about interactive tables.';\n",
              "          element.innerHTML = '';\n",
              "          dataTable['output_type'] = 'display_data';\n",
              "          await google.colab.output.renderOutput(dataTable, element);\n",
              "          const docLink = document.createElement('div');\n",
              "          docLink.innerHTML = docLinkHtml;\n",
              "          element.appendChild(docLink);\n",
              "        }\n",
              "      </script>\n",
              "    </div>\n",
              "  </div>\n",
              "  "
            ]
          },
          "metadata": {},
          "execution_count": 11
        }
      ],
      "source": [
        "data.groupby('experience_level')['salary_in_usd'].describe()"
      ],
      "id": "1e27b890"
    },
    {
      "cell_type": "code",
      "execution_count": null,
      "metadata": {
        "id": "8a44fe14",
        "colab": {
          "base_uri": "https://localhost:8080/",
          "height": 551
        },
        "outputId": "61997355-1c0d-40bf-c75b-66f9c0a3ba3f"
      },
      "outputs": [
        {
          "output_type": "execute_result",
          "data": {
            "text/plain": [
              "                 count           mean           std      min       25%  \\\n",
              "salary_currency                                                          \n",
              "BRL                2.0   16026.000000   4279.410240  13000.0  14513.00   \n",
              "CAD               10.0   96996.900000  38463.170062  54376.0  72967.50   \n",
              "CLP                1.0   40798.000000           NaN  40798.0  40798.00   \n",
              "CNY                1.0   43331.000000           NaN  43331.0  43331.00   \n",
              "DKK                2.0   37373.000000  12053.342192  28850.0  33111.50   \n",
              "EUR               57.0   67260.771930  33038.878733  15966.0  45773.00   \n",
              "GBP               13.0   86447.076923  23669.136058  51814.0  66400.00   \n",
              "HUF                2.0   36233.500000    704.985461  35735.0  35984.25   \n",
              "INR               21.0   26353.095238  22638.730510   5423.0   6072.00   \n",
              "JPY                1.0   41689.000000           NaN  41689.0  41689.00   \n",
              "MXN                2.0   18193.500000  21662.216242   2876.0  10534.75   \n",
              "PLN                2.0   37965.000000  12959.853086  28801.0  33383.00   \n",
              "SGD                2.0  104433.500000  21099.359244  89514.0  96973.75   \n",
              "TRY                3.0   21761.666667   8616.287909  13105.0  17474.00   \n",
              "USD              126.0  137262.309524  97819.026777   4000.0  80250.00   \n",
              "\n",
              "                      50%        75%       max  \n",
              "salary_currency                                 \n",
              "BRL               16026.0   17539.00   19052.0  \n",
              "CAD               92159.0  102954.50  187917.0  \n",
              "CLP               40798.0   40798.00   40798.0  \n",
              "CNY               43331.0   43331.00   43331.0  \n",
              "DKK               37373.0   41634.50   45896.0  \n",
              "EUR               62726.0   79833.00  175228.0  \n",
              "GBP               83000.0  109024.00  117583.0  \n",
              "HUF               36233.5   36482.75   36732.0  \n",
              "INR               21695.0   30509.00   94917.0  \n",
              "JPY               41689.0   41689.00   41689.0  \n",
              "MXN               18193.5   25852.25   33511.0  \n",
              "PLN               37965.0   42547.00   47129.0  \n",
              "SGD              104433.5  111893.25  119353.0  \n",
              "TRY               21843.0   26090.00   30337.0  \n",
              "USD              116500.0  169500.00  600000.0  "
            ],
            "text/html": [
              "\n",
              "  <div id=\"df-62947605-8562-4e48-9792-2c0ae7bd2047\">\n",
              "    <div class=\"colab-df-container\">\n",
              "      <div>\n",
              "<style scoped>\n",
              "    .dataframe tbody tr th:only-of-type {\n",
              "        vertical-align: middle;\n",
              "    }\n",
              "\n",
              "    .dataframe tbody tr th {\n",
              "        vertical-align: top;\n",
              "    }\n",
              "\n",
              "    .dataframe thead th {\n",
              "        text-align: right;\n",
              "    }\n",
              "</style>\n",
              "<table border=\"1\" class=\"dataframe\">\n",
              "  <thead>\n",
              "    <tr style=\"text-align: right;\">\n",
              "      <th></th>\n",
              "      <th>count</th>\n",
              "      <th>mean</th>\n",
              "      <th>std</th>\n",
              "      <th>min</th>\n",
              "      <th>25%</th>\n",
              "      <th>50%</th>\n",
              "      <th>75%</th>\n",
              "      <th>max</th>\n",
              "    </tr>\n",
              "    <tr>\n",
              "      <th>salary_currency</th>\n",
              "      <th></th>\n",
              "      <th></th>\n",
              "      <th></th>\n",
              "      <th></th>\n",
              "      <th></th>\n",
              "      <th></th>\n",
              "      <th></th>\n",
              "      <th></th>\n",
              "    </tr>\n",
              "  </thead>\n",
              "  <tbody>\n",
              "    <tr>\n",
              "      <th>BRL</th>\n",
              "      <td>2.0</td>\n",
              "      <td>16026.000000</td>\n",
              "      <td>4279.410240</td>\n",
              "      <td>13000.0</td>\n",
              "      <td>14513.00</td>\n",
              "      <td>16026.0</td>\n",
              "      <td>17539.00</td>\n",
              "      <td>19052.0</td>\n",
              "    </tr>\n",
              "    <tr>\n",
              "      <th>CAD</th>\n",
              "      <td>10.0</td>\n",
              "      <td>96996.900000</td>\n",
              "      <td>38463.170062</td>\n",
              "      <td>54376.0</td>\n",
              "      <td>72967.50</td>\n",
              "      <td>92159.0</td>\n",
              "      <td>102954.50</td>\n",
              "      <td>187917.0</td>\n",
              "    </tr>\n",
              "    <tr>\n",
              "      <th>CLP</th>\n",
              "      <td>1.0</td>\n",
              "      <td>40798.000000</td>\n",
              "      <td>NaN</td>\n",
              "      <td>40798.0</td>\n",
              "      <td>40798.00</td>\n",
              "      <td>40798.0</td>\n",
              "      <td>40798.00</td>\n",
              "      <td>40798.0</td>\n",
              "    </tr>\n",
              "    <tr>\n",
              "      <th>CNY</th>\n",
              "      <td>1.0</td>\n",
              "      <td>43331.000000</td>\n",
              "      <td>NaN</td>\n",
              "      <td>43331.0</td>\n",
              "      <td>43331.00</td>\n",
              "      <td>43331.0</td>\n",
              "      <td>43331.00</td>\n",
              "      <td>43331.0</td>\n",
              "    </tr>\n",
              "    <tr>\n",
              "      <th>DKK</th>\n",
              "      <td>2.0</td>\n",
              "      <td>37373.000000</td>\n",
              "      <td>12053.342192</td>\n",
              "      <td>28850.0</td>\n",
              "      <td>33111.50</td>\n",
              "      <td>37373.0</td>\n",
              "      <td>41634.50</td>\n",
              "      <td>45896.0</td>\n",
              "    </tr>\n",
              "    <tr>\n",
              "      <th>EUR</th>\n",
              "      <td>57.0</td>\n",
              "      <td>67260.771930</td>\n",
              "      <td>33038.878733</td>\n",
              "      <td>15966.0</td>\n",
              "      <td>45773.00</td>\n",
              "      <td>62726.0</td>\n",
              "      <td>79833.00</td>\n",
              "      <td>175228.0</td>\n",
              "    </tr>\n",
              "    <tr>\n",
              "      <th>GBP</th>\n",
              "      <td>13.0</td>\n",
              "      <td>86447.076923</td>\n",
              "      <td>23669.136058</td>\n",
              "      <td>51814.0</td>\n",
              "      <td>66400.00</td>\n",
              "      <td>83000.0</td>\n",
              "      <td>109024.00</td>\n",
              "      <td>117583.0</td>\n",
              "    </tr>\n",
              "    <tr>\n",
              "      <th>HUF</th>\n",
              "      <td>2.0</td>\n",
              "      <td>36233.500000</td>\n",
              "      <td>704.985461</td>\n",
              "      <td>35735.0</td>\n",
              "      <td>35984.25</td>\n",
              "      <td>36233.5</td>\n",
              "      <td>36482.75</td>\n",
              "      <td>36732.0</td>\n",
              "    </tr>\n",
              "    <tr>\n",
              "      <th>INR</th>\n",
              "      <td>21.0</td>\n",
              "      <td>26353.095238</td>\n",
              "      <td>22638.730510</td>\n",
              "      <td>5423.0</td>\n",
              "      <td>6072.00</td>\n",
              "      <td>21695.0</td>\n",
              "      <td>30509.00</td>\n",
              "      <td>94917.0</td>\n",
              "    </tr>\n",
              "    <tr>\n",
              "      <th>JPY</th>\n",
              "      <td>1.0</td>\n",
              "      <td>41689.000000</td>\n",
              "      <td>NaN</td>\n",
              "      <td>41689.0</td>\n",
              "      <td>41689.00</td>\n",
              "      <td>41689.0</td>\n",
              "      <td>41689.00</td>\n",
              "      <td>41689.0</td>\n",
              "    </tr>\n",
              "    <tr>\n",
              "      <th>MXN</th>\n",
              "      <td>2.0</td>\n",
              "      <td>18193.500000</td>\n",
              "      <td>21662.216242</td>\n",
              "      <td>2876.0</td>\n",
              "      <td>10534.75</td>\n",
              "      <td>18193.5</td>\n",
              "      <td>25852.25</td>\n",
              "      <td>33511.0</td>\n",
              "    </tr>\n",
              "    <tr>\n",
              "      <th>PLN</th>\n",
              "      <td>2.0</td>\n",
              "      <td>37965.000000</td>\n",
              "      <td>12959.853086</td>\n",
              "      <td>28801.0</td>\n",
              "      <td>33383.00</td>\n",
              "      <td>37965.0</td>\n",
              "      <td>42547.00</td>\n",
              "      <td>47129.0</td>\n",
              "    </tr>\n",
              "    <tr>\n",
              "      <th>SGD</th>\n",
              "      <td>2.0</td>\n",
              "      <td>104433.500000</td>\n",
              "      <td>21099.359244</td>\n",
              "      <td>89514.0</td>\n",
              "      <td>96973.75</td>\n",
              "      <td>104433.5</td>\n",
              "      <td>111893.25</td>\n",
              "      <td>119353.0</td>\n",
              "    </tr>\n",
              "    <tr>\n",
              "      <th>TRY</th>\n",
              "      <td>3.0</td>\n",
              "      <td>21761.666667</td>\n",
              "      <td>8616.287909</td>\n",
              "      <td>13105.0</td>\n",
              "      <td>17474.00</td>\n",
              "      <td>21843.0</td>\n",
              "      <td>26090.00</td>\n",
              "      <td>30337.0</td>\n",
              "    </tr>\n",
              "    <tr>\n",
              "      <th>USD</th>\n",
              "      <td>126.0</td>\n",
              "      <td>137262.309524</td>\n",
              "      <td>97819.026777</td>\n",
              "      <td>4000.0</td>\n",
              "      <td>80250.00</td>\n",
              "      <td>116500.0</td>\n",
              "      <td>169500.00</td>\n",
              "      <td>600000.0</td>\n",
              "    </tr>\n",
              "  </tbody>\n",
              "</table>\n",
              "</div>\n",
              "      <button class=\"colab-df-convert\" onclick=\"convertToInteractive('df-62947605-8562-4e48-9792-2c0ae7bd2047')\"\n",
              "              title=\"Convert this dataframe to an interactive table.\"\n",
              "              style=\"display:none;\">\n",
              "        \n",
              "  <svg xmlns=\"http://www.w3.org/2000/svg\" height=\"24px\"viewBox=\"0 0 24 24\"\n",
              "       width=\"24px\">\n",
              "    <path d=\"M0 0h24v24H0V0z\" fill=\"none\"/>\n",
              "    <path d=\"M18.56 5.44l.94 2.06.94-2.06 2.06-.94-2.06-.94-.94-2.06-.94 2.06-2.06.94zm-11 1L8.5 8.5l.94-2.06 2.06-.94-2.06-.94L8.5 2.5l-.94 2.06-2.06.94zm10 10l.94 2.06.94-2.06 2.06-.94-2.06-.94-.94-2.06-.94 2.06-2.06.94z\"/><path d=\"M17.41 7.96l-1.37-1.37c-.4-.4-.92-.59-1.43-.59-.52 0-1.04.2-1.43.59L10.3 9.45l-7.72 7.72c-.78.78-.78 2.05 0 2.83L4 21.41c.39.39.9.59 1.41.59.51 0 1.02-.2 1.41-.59l7.78-7.78 2.81-2.81c.8-.78.8-2.07 0-2.86zM5.41 20L4 18.59l7.72-7.72 1.47 1.35L5.41 20z\"/>\n",
              "  </svg>\n",
              "      </button>\n",
              "      \n",
              "  <style>\n",
              "    .colab-df-container {\n",
              "      display:flex;\n",
              "      flex-wrap:wrap;\n",
              "      gap: 12px;\n",
              "    }\n",
              "\n",
              "    .colab-df-convert {\n",
              "      background-color: #E8F0FE;\n",
              "      border: none;\n",
              "      border-radius: 50%;\n",
              "      cursor: pointer;\n",
              "      display: none;\n",
              "      fill: #1967D2;\n",
              "      height: 32px;\n",
              "      padding: 0 0 0 0;\n",
              "      width: 32px;\n",
              "    }\n",
              "\n",
              "    .colab-df-convert:hover {\n",
              "      background-color: #E2EBFA;\n",
              "      box-shadow: 0px 1px 2px rgba(60, 64, 67, 0.3), 0px 1px 3px 1px rgba(60, 64, 67, 0.15);\n",
              "      fill: #174EA6;\n",
              "    }\n",
              "\n",
              "    [theme=dark] .colab-df-convert {\n",
              "      background-color: #3B4455;\n",
              "      fill: #D2E3FC;\n",
              "    }\n",
              "\n",
              "    [theme=dark] .colab-df-convert:hover {\n",
              "      background-color: #434B5C;\n",
              "      box-shadow: 0px 1px 3px 1px rgba(0, 0, 0, 0.15);\n",
              "      filter: drop-shadow(0px 1px 2px rgba(0, 0, 0, 0.3));\n",
              "      fill: #FFFFFF;\n",
              "    }\n",
              "  </style>\n",
              "\n",
              "      <script>\n",
              "        const buttonEl =\n",
              "          document.querySelector('#df-62947605-8562-4e48-9792-2c0ae7bd2047 button.colab-df-convert');\n",
              "        buttonEl.style.display =\n",
              "          google.colab.kernel.accessAllowed ? 'block' : 'none';\n",
              "\n",
              "        async function convertToInteractive(key) {\n",
              "          const element = document.querySelector('#df-62947605-8562-4e48-9792-2c0ae7bd2047');\n",
              "          const dataTable =\n",
              "            await google.colab.kernel.invokeFunction('convertToInteractive',\n",
              "                                                     [key], {});\n",
              "          if (!dataTable) return;\n",
              "\n",
              "          const docLinkHtml = 'Like what you see? Visit the ' +\n",
              "            '<a target=\"_blank\" href=https://colab.research.google.com/notebooks/data_table.ipynb>data table notebook</a>'\n",
              "            + ' to learn more about interactive tables.';\n",
              "          element.innerHTML = '';\n",
              "          dataTable['output_type'] = 'display_data';\n",
              "          await google.colab.output.renderOutput(dataTable, element);\n",
              "          const docLink = document.createElement('div');\n",
              "          docLink.innerHTML = docLinkHtml;\n",
              "          element.appendChild(docLink);\n",
              "        }\n",
              "      </script>\n",
              "    </div>\n",
              "  </div>\n",
              "  "
            ]
          },
          "metadata": {},
          "execution_count": 12
        }
      ],
      "source": [
        "data.groupby('salary_currency')['salary_in_usd'].describe()"
      ],
      "id": "8a44fe14"
    },
    {
      "cell_type": "markdown",
      "metadata": {
        "id": "14de33c4"
      },
      "source": [
        "### Step 3.b: Explore data on two columns\n",
        "- Say you want to investigate two columns: `experience_level` and `company_size`\n",
        "```Python\n",
        "data.groupby(['experience_level', 'company_size'])['salary_in_usd'].mean()\n",
        "```\n",
        "- Try similar for other combinations"
      ],
      "id": "14de33c4"
    },
    {
      "cell_type": "code",
      "execution_count": null,
      "metadata": {
        "colab": {
          "base_uri": "https://localhost:8080/"
        },
        "id": "fbeeeb3e",
        "outputId": "08b32c77-2878-4984-8a86-b523f8624ce1"
      },
      "outputs": [
        {
          "output_type": "execute_result",
          "data": {
            "text/plain": [
              "experience_level  company_size\n",
              "EN                L                75148.000000\n",
              "                  M                41063.923077\n",
              "                  S                57502.000000\n",
              "EX                L               239729.875000\n",
              "                  M                85000.000000\n",
              "                  S               243164.500000\n",
              "MI                L                96285.451613\n",
              "                  M                83982.800000\n",
              "                  S                47610.000000\n",
              "SE                L               134465.604651\n",
              "                  M               122572.125000\n",
              "                  S               120978.055556\n",
              "Name: salary_in_usd, dtype: float64"
            ]
          },
          "metadata": {},
          "execution_count": 13
        }
      ],
      "source": [
        "data.groupby(['experience_level', 'company_size'])['salary_in_usd'].mean()"
      ],
      "id": "fbeeeb3e"
    },
    {
      "cell_type": "markdown",
      "metadata": {
        "id": "6ed6cef0"
      },
      "source": [
        "### Step 3.c: Describe data on two columns\n",
        "- How does the spread look like.\n",
        "- Can we conclude anything based on data\n",
        "```Python\n",
        "data.groupby(['company_size', 'experience_level'])['salary_in_usd'].describe()\n",
        "```"
      ],
      "id": "6ed6cef0"
    },
    {
      "cell_type": "code",
      "execution_count": null,
      "metadata": {
        "colab": {
          "base_uri": "https://localhost:8080/",
          "height": 457
        },
        "id": "579047ff",
        "outputId": "a5e8692f-04fe-4651-8572-7fd368d5611e"
      },
      "outputs": [
        {
          "output_type": "execute_result",
          "data": {
            "text/plain": [
              "                               count           mean            std      min  \\\n",
              "company_size experience_level                                                 \n",
              "L            EN                 19.0   75148.000000   64087.707409   5898.0   \n",
              "             EX                  8.0  239729.875000  163591.318040  79833.0   \n",
              "             MI                 62.0   96285.451613   80426.650346   6072.0   \n",
              "             SE                 43.0  134465.604651   74345.888870  21843.0   \n",
              "M            EN                 13.0   41063.923077   30822.672549   4000.0   \n",
              "             EX                  1.0   85000.000000            NaN  85000.0   \n",
              "             MI                 25.0   83982.800000   87827.739265   4000.0   \n",
              "             SE                 16.0  122572.125000   51404.202382  19052.0   \n",
              "S            EN                 22.0   57502.000000   39823.933768   6072.0   \n",
              "             EX                  2.0  243164.500000  244426.308160  70329.0   \n",
              "             MI                 16.0   47610.000000   32458.213574   2876.0   \n",
              "             SE                 18.0  120978.055556   66689.351887  33511.0   \n",
              "\n",
              "                                     25%       50%        75%       max  \n",
              "company_size experience_level                                            \n",
              "L            EN                 33730.50   64369.0   87000.00  250000.0  \n",
              "             EX                148260.75  192481.5  257500.00  600000.0  \n",
              "             MI                 46851.50   82500.0  112654.00  450000.0  \n",
              "             SE                 74147.00  135000.0  174000.00  412000.0  \n",
              "M            EN                 21695.00   28475.0   65561.00  100000.0  \n",
              "             EX                 85000.00   85000.0   85000.00   85000.0  \n",
              "             MI                 38776.00   61985.0  111775.00  450000.0  \n",
              "             SE                 94552.00  117062.5  166250.00  195000.0  \n",
              "S            EN                 18993.75   55660.5   88750.00  138000.0  \n",
              "             EX                156746.75  243164.5  329582.25  416000.0  \n",
              "             MI                 17737.25   46720.5   68300.00  110000.0  \n",
              "             SE                 78110.75  108898.5  160000.00  260000.0  "
            ],
            "text/html": [
              "\n",
              "  <div id=\"df-bf869427-c83a-4d76-8055-2b1efd564412\">\n",
              "    <div class=\"colab-df-container\">\n",
              "      <div>\n",
              "<style scoped>\n",
              "    .dataframe tbody tr th:only-of-type {\n",
              "        vertical-align: middle;\n",
              "    }\n",
              "\n",
              "    .dataframe tbody tr th {\n",
              "        vertical-align: top;\n",
              "    }\n",
              "\n",
              "    .dataframe thead th {\n",
              "        text-align: right;\n",
              "    }\n",
              "</style>\n",
              "<table border=\"1\" class=\"dataframe\">\n",
              "  <thead>\n",
              "    <tr style=\"text-align: right;\">\n",
              "      <th></th>\n",
              "      <th></th>\n",
              "      <th>count</th>\n",
              "      <th>mean</th>\n",
              "      <th>std</th>\n",
              "      <th>min</th>\n",
              "      <th>25%</th>\n",
              "      <th>50%</th>\n",
              "      <th>75%</th>\n",
              "      <th>max</th>\n",
              "    </tr>\n",
              "    <tr>\n",
              "      <th>company_size</th>\n",
              "      <th>experience_level</th>\n",
              "      <th></th>\n",
              "      <th></th>\n",
              "      <th></th>\n",
              "      <th></th>\n",
              "      <th></th>\n",
              "      <th></th>\n",
              "      <th></th>\n",
              "      <th></th>\n",
              "    </tr>\n",
              "  </thead>\n",
              "  <tbody>\n",
              "    <tr>\n",
              "      <th rowspan=\"4\" valign=\"top\">L</th>\n",
              "      <th>EN</th>\n",
              "      <td>19.0</td>\n",
              "      <td>75148.000000</td>\n",
              "      <td>64087.707409</td>\n",
              "      <td>5898.0</td>\n",
              "      <td>33730.50</td>\n",
              "      <td>64369.0</td>\n",
              "      <td>87000.00</td>\n",
              "      <td>250000.0</td>\n",
              "    </tr>\n",
              "    <tr>\n",
              "      <th>EX</th>\n",
              "      <td>8.0</td>\n",
              "      <td>239729.875000</td>\n",
              "      <td>163591.318040</td>\n",
              "      <td>79833.0</td>\n",
              "      <td>148260.75</td>\n",
              "      <td>192481.5</td>\n",
              "      <td>257500.00</td>\n",
              "      <td>600000.0</td>\n",
              "    </tr>\n",
              "    <tr>\n",
              "      <th>MI</th>\n",
              "      <td>62.0</td>\n",
              "      <td>96285.451613</td>\n",
              "      <td>80426.650346</td>\n",
              "      <td>6072.0</td>\n",
              "      <td>46851.50</td>\n",
              "      <td>82500.0</td>\n",
              "      <td>112654.00</td>\n",
              "      <td>450000.0</td>\n",
              "    </tr>\n",
              "    <tr>\n",
              "      <th>SE</th>\n",
              "      <td>43.0</td>\n",
              "      <td>134465.604651</td>\n",
              "      <td>74345.888870</td>\n",
              "      <td>21843.0</td>\n",
              "      <td>74147.00</td>\n",
              "      <td>135000.0</td>\n",
              "      <td>174000.00</td>\n",
              "      <td>412000.0</td>\n",
              "    </tr>\n",
              "    <tr>\n",
              "      <th rowspan=\"4\" valign=\"top\">M</th>\n",
              "      <th>EN</th>\n",
              "      <td>13.0</td>\n",
              "      <td>41063.923077</td>\n",
              "      <td>30822.672549</td>\n",
              "      <td>4000.0</td>\n",
              "      <td>21695.00</td>\n",
              "      <td>28475.0</td>\n",
              "      <td>65561.00</td>\n",
              "      <td>100000.0</td>\n",
              "    </tr>\n",
              "    <tr>\n",
              "      <th>EX</th>\n",
              "      <td>1.0</td>\n",
              "      <td>85000.000000</td>\n",
              "      <td>NaN</td>\n",
              "      <td>85000.0</td>\n",
              "      <td>85000.00</td>\n",
              "      <td>85000.0</td>\n",
              "      <td>85000.00</td>\n",
              "      <td>85000.0</td>\n",
              "    </tr>\n",
              "    <tr>\n",
              "      <th>MI</th>\n",
              "      <td>25.0</td>\n",
              "      <td>83982.800000</td>\n",
              "      <td>87827.739265</td>\n",
              "      <td>4000.0</td>\n",
              "      <td>38776.00</td>\n",
              "      <td>61985.0</td>\n",
              "      <td>111775.00</td>\n",
              "      <td>450000.0</td>\n",
              "    </tr>\n",
              "    <tr>\n",
              "      <th>SE</th>\n",
              "      <td>16.0</td>\n",
              "      <td>122572.125000</td>\n",
              "      <td>51404.202382</td>\n",
              "      <td>19052.0</td>\n",
              "      <td>94552.00</td>\n",
              "      <td>117062.5</td>\n",
              "      <td>166250.00</td>\n",
              "      <td>195000.0</td>\n",
              "    </tr>\n",
              "    <tr>\n",
              "      <th rowspan=\"4\" valign=\"top\">S</th>\n",
              "      <th>EN</th>\n",
              "      <td>22.0</td>\n",
              "      <td>57502.000000</td>\n",
              "      <td>39823.933768</td>\n",
              "      <td>6072.0</td>\n",
              "      <td>18993.75</td>\n",
              "      <td>55660.5</td>\n",
              "      <td>88750.00</td>\n",
              "      <td>138000.0</td>\n",
              "    </tr>\n",
              "    <tr>\n",
              "      <th>EX</th>\n",
              "      <td>2.0</td>\n",
              "      <td>243164.500000</td>\n",
              "      <td>244426.308160</td>\n",
              "      <td>70329.0</td>\n",
              "      <td>156746.75</td>\n",
              "      <td>243164.5</td>\n",
              "      <td>329582.25</td>\n",
              "      <td>416000.0</td>\n",
              "    </tr>\n",
              "    <tr>\n",
              "      <th>MI</th>\n",
              "      <td>16.0</td>\n",
              "      <td>47610.000000</td>\n",
              "      <td>32458.213574</td>\n",
              "      <td>2876.0</td>\n",
              "      <td>17737.25</td>\n",
              "      <td>46720.5</td>\n",
              "      <td>68300.00</td>\n",
              "      <td>110000.0</td>\n",
              "    </tr>\n",
              "    <tr>\n",
              "      <th>SE</th>\n",
              "      <td>18.0</td>\n",
              "      <td>120978.055556</td>\n",
              "      <td>66689.351887</td>\n",
              "      <td>33511.0</td>\n",
              "      <td>78110.75</td>\n",
              "      <td>108898.5</td>\n",
              "      <td>160000.00</td>\n",
              "      <td>260000.0</td>\n",
              "    </tr>\n",
              "  </tbody>\n",
              "</table>\n",
              "</div>\n",
              "      <button class=\"colab-df-convert\" onclick=\"convertToInteractive('df-bf869427-c83a-4d76-8055-2b1efd564412')\"\n",
              "              title=\"Convert this dataframe to an interactive table.\"\n",
              "              style=\"display:none;\">\n",
              "        \n",
              "  <svg xmlns=\"http://www.w3.org/2000/svg\" height=\"24px\"viewBox=\"0 0 24 24\"\n",
              "       width=\"24px\">\n",
              "    <path d=\"M0 0h24v24H0V0z\" fill=\"none\"/>\n",
              "    <path d=\"M18.56 5.44l.94 2.06.94-2.06 2.06-.94-2.06-.94-.94-2.06-.94 2.06-2.06.94zm-11 1L8.5 8.5l.94-2.06 2.06-.94-2.06-.94L8.5 2.5l-.94 2.06-2.06.94zm10 10l.94 2.06.94-2.06 2.06-.94-2.06-.94-.94-2.06-.94 2.06-2.06.94z\"/><path d=\"M17.41 7.96l-1.37-1.37c-.4-.4-.92-.59-1.43-.59-.52 0-1.04.2-1.43.59L10.3 9.45l-7.72 7.72c-.78.78-.78 2.05 0 2.83L4 21.41c.39.39.9.59 1.41.59.51 0 1.02-.2 1.41-.59l7.78-7.78 2.81-2.81c.8-.78.8-2.07 0-2.86zM5.41 20L4 18.59l7.72-7.72 1.47 1.35L5.41 20z\"/>\n",
              "  </svg>\n",
              "      </button>\n",
              "      \n",
              "  <style>\n",
              "    .colab-df-container {\n",
              "      display:flex;\n",
              "      flex-wrap:wrap;\n",
              "      gap: 12px;\n",
              "    }\n",
              "\n",
              "    .colab-df-convert {\n",
              "      background-color: #E8F0FE;\n",
              "      border: none;\n",
              "      border-radius: 50%;\n",
              "      cursor: pointer;\n",
              "      display: none;\n",
              "      fill: #1967D2;\n",
              "      height: 32px;\n",
              "      padding: 0 0 0 0;\n",
              "      width: 32px;\n",
              "    }\n",
              "\n",
              "    .colab-df-convert:hover {\n",
              "      background-color: #E2EBFA;\n",
              "      box-shadow: 0px 1px 2px rgba(60, 64, 67, 0.3), 0px 1px 3px 1px rgba(60, 64, 67, 0.15);\n",
              "      fill: #174EA6;\n",
              "    }\n",
              "\n",
              "    [theme=dark] .colab-df-convert {\n",
              "      background-color: #3B4455;\n",
              "      fill: #D2E3FC;\n",
              "    }\n",
              "\n",
              "    [theme=dark] .colab-df-convert:hover {\n",
              "      background-color: #434B5C;\n",
              "      box-shadow: 0px 1px 3px 1px rgba(0, 0, 0, 0.15);\n",
              "      filter: drop-shadow(0px 1px 2px rgba(0, 0, 0, 0.3));\n",
              "      fill: #FFFFFF;\n",
              "    }\n",
              "  </style>\n",
              "\n",
              "      <script>\n",
              "        const buttonEl =\n",
              "          document.querySelector('#df-bf869427-c83a-4d76-8055-2b1efd564412 button.colab-df-convert');\n",
              "        buttonEl.style.display =\n",
              "          google.colab.kernel.accessAllowed ? 'block' : 'none';\n",
              "\n",
              "        async function convertToInteractive(key) {\n",
              "          const element = document.querySelector('#df-bf869427-c83a-4d76-8055-2b1efd564412');\n",
              "          const dataTable =\n",
              "            await google.colab.kernel.invokeFunction('convertToInteractive',\n",
              "                                                     [key], {});\n",
              "          if (!dataTable) return;\n",
              "\n",
              "          const docLinkHtml = 'Like what you see? Visit the ' +\n",
              "            '<a target=\"_blank\" href=https://colab.research.google.com/notebooks/data_table.ipynb>data table notebook</a>'\n",
              "            + ' to learn more about interactive tables.';\n",
              "          element.innerHTML = '';\n",
              "          dataTable['output_type'] = 'display_data';\n",
              "          await google.colab.output.renderOutput(dataTable, element);\n",
              "          const docLink = document.createElement('div');\n",
              "          docLink.innerHTML = docLinkHtml;\n",
              "          element.appendChild(docLink);\n",
              "        }\n",
              "      </script>\n",
              "    </div>\n",
              "  </div>\n",
              "  "
            ]
          },
          "metadata": {},
          "execution_count": 14
        }
      ],
      "source": [
        "data.groupby(['company_size', 'experience_level'])['salary_in_usd'].describe()"
      ],
      "id": "579047ff"
    },
    {
      "cell_type": "markdown",
      "metadata": {
        "id": "2a825783"
      },
      "source": [
        "### Step 3.d: Visualize the description\n",
        "- What does this tell you\n",
        "```Python\n",
        "data.boxplot(column='salary_in_usd', by='company_size')\n",
        "```\n",
        "- Do this for other features of your interest"
      ],
      "id": "2a825783"
    },
    {
      "cell_type": "code",
      "execution_count": null,
      "metadata": {
        "colab": {
          "base_uri": "https://localhost:8080/",
          "height": 357
        },
        "id": "76da495f",
        "outputId": "f6c75cc6-6a5c-4052-aa4c-03d989ba47b1"
      },
      "outputs": [
        {
          "output_type": "stream",
          "name": "stderr",
          "text": [
            "/usr/local/lib/python3.8/dist-packages/matplotlib/cbook/__init__.py:1376: VisibleDeprecationWarning: Creating an ndarray from ragged nested sequences (which is a list-or-tuple of lists-or-tuples-or ndarrays with different lengths or shapes) is deprecated. If you meant to do this, you must specify 'dtype=object' when creating the ndarray.\n",
            "  X = np.atleast_1d(X.T if isinstance(X, np.ndarray) else np.asarray(X))\n"
          ]
        },
        {
          "output_type": "display_data",
          "data": {
            "text/plain": [
              "<Figure size 432x288 with 1 Axes>"
            ],
            "image/png": "[encoded data removed]"
          },
          "metadata": {
            "needs_background": "light"
          }
        }
      ],
      "source": [
        "data.boxplot(column='salary_in_usd', by='company_size')\n",
        "plt.show()"
      ],
      "id": "76da495f"
    },
    {
      "cell_type": "markdown",
      "metadata": {
        "id": "98a71ee2"
      },
      "source": [
        "## Step 4: Report\n",
        "- Present findings\n",
        "- Visualize results\n",
        "- Credibility counts"
      ],
      "id": "98a71ee2"
    },
    {
      "cell_type": "markdown",
      "metadata": {
        "id": "1e08b1e1"
      },
      "source": [
        "### Step 4.a: Present your findings\n",
        "- Here we focus on `company_size` and `experience_level`\n",
        "- Create a data frame for the data to plot.\n",
        "    - This makes easy to re-order index and column\n",
        "- Notice: Do it for the features you want to present\n",
        "```Python\n",
        "data.groupby(['company_size', 'experience_level'])['salary_in_usd'].mean().unstack()\n",
        "```\n",
        "- [unstack()](https://pandas.pydata.org/docs/reference/api/pandas.DataFrame.unstack.html) unstacks multiindex"
      ],
      "id": "1e08b1e1"
    },
    {
      "cell_type": "code",
      "execution_count": null,
      "metadata": {
        "colab": {
          "base_uri": "https://localhost:8080/",
          "height": 175
        },
        "id": "a4894e19",
        "outputId": "645ff6b9-d54c-4d8d-d26d-1b6cfb77e275"
      },
      "outputs": [
        {
          "output_type": "execute_result",
          "data": {
            "text/plain": [
              "experience_level            EN          EX            MI             SE\n",
              "company_size                                                           \n",
              "L                 75148.000000  239729.875  96285.451613  134465.604651\n",
              "M                 41063.923077   85000.000  83982.800000  122572.125000\n",
              "S                 57502.000000  243164.500  47610.000000  120978.055556"
            ],
            "text/html": [
              "\n",
              "  <div id=\"df-5f48f251-78fc-419f-8a98-5151d2b578a8\">\n",
              "    <div class=\"colab-df-container\">\n",
              "      <div>\n",
              "<style scoped>\n",
              "    .dataframe tbody tr th:only-of-type {\n",
              "        vertical-align: middle;\n",
              "    }\n",
              "\n",
              "    .dataframe tbody tr th {\n",
              "        vertical-align: top;\n",
              "    }\n",
              "\n",
              "    .dataframe thead th {\n",
              "        text-align: right;\n",
              "    }\n",
              "</style>\n",
              "<table border=\"1\" class=\"dataframe\">\n",
              "  <thead>\n",
              "    <tr style=\"text-align: right;\">\n",
              "      <th>experience_level</th>\n",
              "      <th>EN</th>\n",
              "      <th>EX</th>\n",
              "      <th>MI</th>\n",
              "      <th>SE</th>\n",
              "    </tr>\n",
              "    <tr>\n",
              "      <th>company_size</th>\n",
              "      <th></th>\n",
              "      <th></th>\n",
              "      <th></th>\n",
              "      <th></th>\n",
              "    </tr>\n",
              "  </thead>\n",
              "  <tbody>\n",
              "    <tr>\n",
              "      <th>L</th>\n",
              "      <td>75148.000000</td>\n",
              "      <td>239729.875</td>\n",
              "      <td>96285.451613</td>\n",
              "      <td>134465.604651</td>\n",
              "    </tr>\n",
              "    <tr>\n",
              "      <th>M</th>\n",
              "      <td>41063.923077</td>\n",
              "      <td>85000.000</td>\n",
              "      <td>83982.800000</td>\n",
              "      <td>122572.125000</td>\n",
              "    </tr>\n",
              "    <tr>\n",
              "      <th>S</th>\n",
              "      <td>57502.000000</td>\n",
              "      <td>243164.500</td>\n",
              "      <td>47610.000000</td>\n",
              "      <td>120978.055556</td>\n",
              "    </tr>\n",
              "  </tbody>\n",
              "</table>\n",
              "</div>\n",
              "      <button class=\"colab-df-convert\" onclick=\"convertToInteractive('df-5f48f251-78fc-419f-8a98-5151d2b578a8')\"\n",
              "              title=\"Convert this dataframe to an interactive table.\"\n",
              "              style=\"display:none;\">\n",
              "        \n",
              "  <svg xmlns=\"http://www.w3.org/2000/svg\" height=\"24px\"viewBox=\"0 0 24 24\"\n",
              "       width=\"24px\">\n",
              "    <path d=\"M0 0h24v24H0V0z\" fill=\"none\"/>\n",
              "    <path d=\"M18.56 5.44l.94 2.06.94-2.06 2.06-.94-2.06-.94-.94-2.06-.94 2.06-2.06.94zm-11 1L8.5 8.5l.94-2.06 2.06-.94-2.06-.94L8.5 2.5l-.94 2.06-2.06.94zm10 10l.94 2.06.94-2.06 2.06-.94-2.06-.94-.94-2.06-.94 2.06-2.06.94z\"/><path d=\"M17.41 7.96l-1.37-1.37c-.4-.4-.92-.59-1.43-.59-.52 0-1.04.2-1.43.59L10.3 9.45l-7.72 7.72c-.78.78-.78 2.05 0 2.83L4 21.41c.39.39.9.59 1.41.59.51 0 1.02-.2 1.41-.59l7.78-7.78 2.81-2.81c.8-.78.8-2.07 0-2.86zM5.41 20L4 18.59l7.72-7.72 1.47 1.35L5.41 20z\"/>\n",
              "  </svg>\n",
              "      </button>\n",
              "      \n",
              "  <style>\n",
              "    .colab-df-container {\n",
              "      display:flex;\n",
              "      flex-wrap:wrap;\n",
              "      gap: 12px;\n",
              "    }\n",
              "\n",
              "    .colab-df-convert {\n",
              "      background-color: #E8F0FE;\n",
              "      border: none;\n",
              "      border-radius: 50%;\n",
              "      cursor: pointer;\n",
              "      display: none;\n",
              "      fill: #1967D2;\n",
              "      height: 32px;\n",
              "      padding: 0 0 0 0;\n",
              "      width: 32px;\n",
              "    }\n",
              "\n",
              "    .colab-df-convert:hover {\n",
              "      background-color: #E2EBFA;\n",
              "      box-shadow: 0px 1px 2px rgba(60, 64, 67, 0.3), 0px 1px 3px 1px rgba(60, 64, 67, 0.15);\n",
              "      fill: #174EA6;\n",
              "    }\n",
              "\n",
              "    [theme=dark] .colab-df-convert {\n",
              "      background-color: #3B4455;\n",
              "      fill: #D2E3FC;\n",
              "    }\n",
              "\n",
              "    [theme=dark] .colab-df-convert:hover {\n",
              "      background-color: #434B5C;\n",
              "      box-shadow: 0px 1px 3px 1px rgba(0, 0, 0, 0.15);\n",
              "      filter: drop-shadow(0px 1px 2px rgba(0, 0, 0, 0.3));\n",
              "      fill: #FFFFFF;\n",
              "    }\n",
              "  </style>\n",
              "\n",
              "      <script>\n",
              "        const buttonEl =\n",
              "          document.querySelector('#df-5f48f251-78fc-419f-8a98-5151d2b578a8 button.colab-df-convert');\n",
              "        buttonEl.style.display =\n",
              "          google.colab.kernel.accessAllowed ? 'block' : 'none';\n",
              "\n",
              "        async function convertToInteractive(key) {\n",
              "          const element = document.querySelector('#df-5f48f251-78fc-419f-8a98-5151d2b578a8');\n",
              "          const dataTable =\n",
              "            await google.colab.kernel.invokeFunction('convertToInteractive',\n",
              "                                                     [key], {});\n",
              "          if (!dataTable) return;\n",
              "\n",
              "          const docLinkHtml = 'Like what you see? Visit the ' +\n",
              "            '<a target=\"_blank\" href=https://colab.research.google.com/notebooks/data_table.ipynb>data table notebook</a>'\n",
              "            + ' to learn more about interactive tables.';\n",
              "          element.innerHTML = '';\n",
              "          dataTable['output_type'] = 'display_data';\n",
              "          await google.colab.output.renderOutput(dataTable, element);\n",
              "          const docLink = document.createElement('div');\n",
              "          docLink.innerHTML = docLinkHtml;\n",
              "          element.appendChild(docLink);\n",
              "        }\n",
              "      </script>\n",
              "    </div>\n",
              "  </div>\n",
              "  "
            ]
          },
          "metadata": {},
          "execution_count": 17
        }
      ],
      "source": [
        "plot_data = data.groupby(['company_size', 'experience_level'])['salary_in_usd'].mean().unstack()\n",
        "plot_data"
      ],
      "id": "a4894e19"
    },
    {
      "cell_type": "markdown",
      "metadata": {
        "id": "b7feb05f"
      },
      "source": [
        "### Step 4.b: Re-order index and columns\n",
        "- We do this to present data in a logical way\n",
        "- Use `reindex(index=['S', 'M', 'L'])` (assuming the same example)\n",
        "- Re-order columns simply by filtering with `['EN', 'MI', 'SE', 'EX']`"
      ],
      "id": "b7feb05f"
    },
    {
      "cell_type": "code",
      "execution_count": null,
      "metadata": {
        "id": "b22097c9",
        "colab": {
          "base_uri": "https://localhost:8080/",
          "height": 175
        },
        "outputId": "e32c6619-04f2-44ee-a265-30d32b24fb86"
      },
      "outputs": [
        {
          "output_type": "execute_result",
          "data": {
            "text/plain": [
              "experience_level            EN            MI             SE          EX\n",
              "company_size                                                           \n",
              "S                 57502.000000  47610.000000  120978.055556  243164.500\n",
              "M                 41063.923077  83982.800000  122572.125000   85000.000\n",
              "L                 75148.000000  96285.451613  134465.604651  239729.875"
            ],
            "text/html": [
              "\n",
              "  <div id=\"df-d16731d4-fc62-4a5b-8192-4c2895034ebd\">\n",
              "    <div class=\"colab-df-container\">\n",
              "      <div>\n",
              "<style scoped>\n",
              "    .dataframe tbody tr th:only-of-type {\n",
              "        vertical-align: middle;\n",
              "    }\n",
              "\n",
              "    .dataframe tbody tr th {\n",
              "        vertical-align: top;\n",
              "    }\n",
              "\n",
              "    .dataframe thead th {\n",
              "        text-align: right;\n",
              "    }\n",
              "</style>\n",
              "<table border=\"1\" class=\"dataframe\">\n",
              "  <thead>\n",
              "    <tr style=\"text-align: right;\">\n",
              "      <th>experience_level</th>\n",
              "      <th>EN</th>\n",
              "      <th>MI</th>\n",
              "      <th>SE</th>\n",
              "      <th>EX</th>\n",
              "    </tr>\n",
              "    <tr>\n",
              "      <th>company_size</th>\n",
              "      <th></th>\n",
              "      <th></th>\n",
              "      <th></th>\n",
              "      <th></th>\n",
              "    </tr>\n",
              "  </thead>\n",
              "  <tbody>\n",
              "    <tr>\n",
              "      <th>S</th>\n",
              "      <td>57502.000000</td>\n",
              "      <td>47610.000000</td>\n",
              "      <td>120978.055556</td>\n",
              "      <td>243164.500</td>\n",
              "    </tr>\n",
              "    <tr>\n",
              "      <th>M</th>\n",
              "      <td>41063.923077</td>\n",
              "      <td>83982.800000</td>\n",
              "      <td>122572.125000</td>\n",
              "      <td>85000.000</td>\n",
              "    </tr>\n",
              "    <tr>\n",
              "      <th>L</th>\n",
              "      <td>75148.000000</td>\n",
              "      <td>96285.451613</td>\n",
              "      <td>134465.604651</td>\n",
              "      <td>239729.875</td>\n",
              "    </tr>\n",
              "  </tbody>\n",
              "</table>\n",
              "</div>\n",
              "      <button class=\"colab-df-convert\" onclick=\"convertToInteractive('df-d16731d4-fc62-4a5b-8192-4c2895034ebd')\"\n",
              "              title=\"Convert this dataframe to an interactive table.\"\n",
              "              style=\"display:none;\">\n",
              "        \n",
              "  <svg xmlns=\"http://www.w3.org/2000/svg\" height=\"24px\"viewBox=\"0 0 24 24\"\n",
              "       width=\"24px\">\n",
              "    <path d=\"M0 0h24v24H0V0z\" fill=\"none\"/>\n",
              "    <path d=\"M18.56 5.44l.94 2.06.94-2.06 2.06-.94-2.06-.94-.94-2.06-.94 2.06-2.06.94zm-11 1L8.5 8.5l.94-2.06 2.06-.94-2.06-.94L8.5 2.5l-.94 2.06-2.06.94zm10 10l.94 2.06.94-2.06 2.06-.94-2.06-.94-.94-2.06-.94 2.06-2.06.94z\"/><path d=\"M17.41 7.96l-1.37-1.37c-.4-.4-.92-.59-1.43-.59-.52 0-1.04.2-1.43.59L10.3 9.45l-7.72 7.72c-.78.78-.78 2.05 0 2.83L4 21.41c.39.39.9.59 1.41.59.51 0 1.02-.2 1.41-.59l7.78-7.78 2.81-2.81c.8-.78.8-2.07 0-2.86zM5.41 20L4 18.59l7.72-7.72 1.47 1.35L5.41 20z\"/>\n",
              "  </svg>\n",
              "      </button>\n",
              "      \n",
              "  <style>\n",
              "    .colab-df-container {\n",
              "      display:flex;\n",
              "      flex-wrap:wrap;\n",
              "      gap: 12px;\n",
              "    }\n",
              "\n",
              "    .colab-df-convert {\n",
              "      background-color: #E8F0FE;\n",
              "      border: none;\n",
              "      border-radius: 50%;\n",
              "      cursor: pointer;\n",
              "      display: none;\n",
              "      fill: #1967D2;\n",
              "      height: 32px;\n",
              "      padding: 0 0 0 0;\n",
              "      width: 32px;\n",
              "    }\n",
              "\n",
              "    .colab-df-convert:hover {\n",
              "      background-color: #E2EBFA;\n",
              "      box-shadow: 0px 1px 2px rgba(60, 64, 67, 0.3), 0px 1px 3px 1px rgba(60, 64, 67, 0.15);\n",
              "      fill: #174EA6;\n",
              "    }\n",
              "\n",
              "    [theme=dark] .colab-df-convert {\n",
              "      background-color: #3B4455;\n",
              "      fill: #D2E3FC;\n",
              "    }\n",
              "\n",
              "    [theme=dark] .colab-df-convert:hover {\n",
              "      background-color: #434B5C;\n",
              "      box-shadow: 0px 1px 3px 1px rgba(0, 0, 0, 0.15);\n",
              "      filter: drop-shadow(0px 1px 2px rgba(0, 0, 0, 0.3));\n",
              "      fill: #FFFFFF;\n",
              "    }\n",
              "  </style>\n",
              "\n",
              "      <script>\n",
              "        const buttonEl =\n",
              "          document.querySelector('#df-d16731d4-fc62-4a5b-8192-4c2895034ebd button.colab-df-convert');\n",
              "        buttonEl.style.display =\n",
              "          google.colab.kernel.accessAllowed ? 'block' : 'none';\n",
              "\n",
              "        async function convertToInteractive(key) {\n",
              "          const element = document.querySelector('#df-d16731d4-fc62-4a5b-8192-4c2895034ebd');\n",
              "          const dataTable =\n",
              "            await google.colab.kernel.invokeFunction('convertToInteractive',\n",
              "                                                     [key], {});\n",
              "          if (!dataTable) return;\n",
              "\n",
              "          const docLinkHtml = 'Like what you see? Visit the ' +\n",
              "            '<a target=\"_blank\" href=https://colab.research.google.com/notebooks/data_table.ipynb>data table notebook</a>'\n",
              "            + ' to learn more about interactive tables.';\n",
              "          element.innerHTML = '';\n",
              "          dataTable['output_type'] = 'display_data';\n",
              "          await google.colab.output.renderOutput(dataTable, element);\n",
              "          const docLink = document.createElement('div');\n",
              "          docLink.innerHTML = docLinkHtml;\n",
              "          element.appendChild(docLink);\n",
              "        }\n",
              "      </script>\n",
              "    </div>\n",
              "  </div>\n",
              "  "
            ]
          },
          "metadata": {},
          "execution_count": 18
        }
      ],
      "source": [
        "plot_data = plot_data.reindex(index=['S', 'M', 'L'])\n",
        "plot_data = plot_data[['EN', 'MI', 'SE', 'EX']]\n",
        "plot_data"
      ],
      "id": "b22097c9"
    },
    {
      "cell_type": "markdown",
      "metadata": {
        "id": "f06a7e31"
      },
      "source": [
        "### Step 4.c: Visualize results\n",
        "- Visualize your result with a bar-plot\n",
        "    - HINT: `plot.bar()`\n",
        "- Finalize with title and labels"
      ],
      "id": "f06a7e31"
    },
    {
      "cell_type": "code",
      "execution_count": null,
      "metadata": {
        "id": "1db44eff",
        "colab": {
          "base_uri": "https://localhost:8080/",
          "height": 279
        },
        "outputId": "9344cc9d-3fc7-43c0-90a0-15bfb17f324e"
      },
      "outputs": [
        {
          "output_type": "display_data",
          "data": {
            "text/plain": [
              "<Figure size 432x288 with 1 Axes>"
            ],
            "image/png": "[encoded data removed]"
          },
          "metadata": {
            "needs_background": "light"
          }
        }
      ],
      "source": [
        "plot_data.plot.bar(ylabel = 'USD Salary')\n",
        "plt.show()"
      ],
      "id": "1db44eff"
    },
    {
      "cell_type": "markdown",
      "metadata": {
        "id": "ea044f89"
      },
      "source": [
        "### Step 4.d: Credability considerations\n",
        "- With the insights we have from our analysis - could we tell another story?\n",
        "- Examples:\n",
        "    - Spread of salary\n",
        "    - Outliers\n",
        "    - Size of dataset and categories used"
      ],
      "id": "ea044f89"
    },
    {
      "cell_type": "code",
      "execution_count": null,
      "metadata": {
        "id": "6a856ce0"
      },
      "outputs": [],
      "source": [],
      "id": "6a856ce0"
    },
    {
      "cell_type": "code",
      "execution_count": null,
      "metadata": {
        "id": "fc867828"
      },
      "outputs": [],
      "source": [],
      "id": "fc867828"
    },
    {
      "cell_type": "markdown",
      "metadata": {
        "id": "65c865f1"
      },
      "source": [
        "## Step 5: Actions\n",
        "- Use insights\n",
        "- Measure impact\n",
        "- Main goal"
      ],
      "id": "65c865f1"
    },
    {
      "cell_type": "markdown",
      "metadata": {
        "id": "c11a5357"
      },
      "source": [
        "### Step 5.a:\n",
        "- How could we use insights?\n",
        "- How to measure it?"
      ],
      "id": "c11a5357"
    },
    {
      "cell_type": "code",
      "execution_count": null,
      "metadata": {
        "id": "7d5db0ab"
      },
      "outputs": [],
      "source": [],
      "id": "7d5db0ab"
    }
  ],
  "metadata": {
    "colab": {
      "provenance": [],
      "include_colab_link": true
    },
    "kernelspec": {
      "display_name": "Python 3 (ipykernel)",
      "language": "python",
      "name": "python3"
    },
    "language_info": {
      "codemirror_mode": {
        "name": "ipython",
        "version": 3
      },
      "file_extension": ".py",
      "mimetype": "text/x-python",
      "name": "python",
      "nbconvert_exporter": "python",
      "pygments_lexer": "ipython3",
      "version": "3.9.10"
    }
  },
  "nbformat": 4,
  "nbformat_minor": 5
}